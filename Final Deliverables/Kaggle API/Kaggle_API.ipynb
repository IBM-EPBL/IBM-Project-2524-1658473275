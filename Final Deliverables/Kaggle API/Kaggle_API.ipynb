{
  "nbformat": 4,
  "nbformat_minor": 0,
  "metadata": {
    "colab": {
      "provenance": [],
      "collapsed_sections": []
    },
    "kernelspec": {
      "name": "python3",
      "display_name": "Python 3"
    },
    "language_info": {
      "name": "python"
    }
  },
  "cells": [
    {
      "cell_type": "code",
      "source": [
        "! pip install -q kaggle"
      ],
      "metadata": {
        "id": "x-yTWHrpL8fw"
      },
      "execution_count": null,
      "outputs": []
    },
    {
      "cell_type": "code",
      "source": [
        "! mkdir ~/.kaggle"
      ],
      "metadata": {
        "colab": {
          "base_uri": "https://localhost:8080/"
        },
        "id": "KICnK3KOXb2o",
        "outputId": "6eae689b-bb26-42be-c785-c372324764b6"
      },
      "execution_count": null,
      "outputs": [
        {
          "output_type": "stream",
          "name": "stdout",
          "text": [
            "mkdir: cannot create directory ‘/root/.kaggle’: File exists\n"
          ]
        }
      ]
    },
    {
      "cell_type": "code",
      "source": [
        "! cp kaggle.json ~/.kaggle/"
      ],
      "metadata": {
        "id": "bNnJ3BIkXz2G"
      },
      "execution_count": null,
      "outputs": []
    },
    {
      "cell_type": "code",
      "source": [
        "!kaggle datasets download -d monesh571/global-sales-dataset"
      ],
      "metadata": {
        "colab": {
          "base_uri": "https://localhost:8080/"
        },
        "id": "KwhlopLUX8NT",
        "outputId": "c010fa43-d6e2-4989-bf54-30b6afe5d6b6"
      },
      "execution_count": null,
      "outputs": [
        {
          "output_type": "stream",
          "name": "stdout",
          "text": [
            "global-sales-dataset.zip: Skipping, found more recently modified local copy (use --force to force download)\n"
          ]
        }
      ]
    },
    {
      "cell_type": "code",
      "source": [
        "! unzip /content/global-sales-dataset.zip"
      ],
      "metadata": {
        "colab": {
          "base_uri": "https://localhost:8080/"
        },
        "id": "sjtfjdl2ZG6t",
        "outputId": "a1dccab5-64a4-4376-9fbb-bdfc33055cf0"
      },
      "execution_count": null,
      "outputs": [
        {
          "output_type": "stream",
          "name": "stdout",
          "text": [
            "Archive:  /content/global-sales-dataset.zip\n",
            "  inflating: Global_Superstore2.csv  \n"
          ]
        }
      ]
    },
    {
      "cell_type": "markdown",
      "source": [
        "Importing Packages"
      ],
      "metadata": {
        "id": "aP0SMMffJN6y"
      }
    },
    {
      "cell_type": "code",
      "execution_count": null,
      "metadata": {
        "id": "bFBZExbB5PZz"
      },
      "outputs": [],
      "source": [
        "import numpy as np\n",
        "import pandas as pd\n",
        "import datetime as dt\n",
        "%matplotlib inline"
      ]
    },
    {
      "cell_type": "markdown",
      "source": [
        "Loading the Dataset"
      ],
      "metadata": {
        "id": "CBCjuS4fJTNI"
      }
    },
    {
      "cell_type": "code",
      "source": [
        "data = pd.read_csv('/content/Global_Superstore2.csv',encoding='unicode_escape')\n",
        "data.head(5)"
      ],
      "metadata": {
        "colab": {
          "base_uri": "https://localhost:8080/",
          "height": 646
        },
        "id": "38CB9GIS_FJk",
        "outputId": "d8f3b507-4656-43d3-8f1e-d01016f33f57"
      },
      "execution_count": 36,
      "outputs": [
        {
          "output_type": "execute_result",
          "data": {
            "text/plain": [
              "   Row ID         Order ID  Order Date   Ship Date     Ship Mode Customer ID  \\\n",
              "0   32298   CA-2012-124891  31-07-2012  31-07-2012      Same Day    RH-19495   \n",
              "1   26341    IN-2013-77878  05-02-2013  07-02-2013  Second Class    JR-16210   \n",
              "2   25330    IN-2013-71249  17-10-2013  18-10-2013   First Class    CR-12730   \n",
              "3   13524  ES-2013-1579342  28-01-2013  30-01-2013   First Class    KM-16375   \n",
              "4   47221     SG-2013-4320  05-11-2013  06-11-2013      Same Day     RH-9495   \n",
              "\n",
              "      Customer Name      Segment           City            State  ...  \\\n",
              "0       Rick Hansen     Consumer  New York City         New York  ...   \n",
              "1     Justin Ritter    Corporate     Wollongong  New South Wales  ...   \n",
              "2      Craig Reiter     Consumer       Brisbane       Queensland  ...   \n",
              "3  Katherine Murray  Home Office         Berlin           Berlin  ...   \n",
              "4       Rick Hansen     Consumer          Dakar            Dakar  ...   \n",
              "\n",
              "         Product ID    Category Sub-Category  \\\n",
              "0   TEC-AC-10003033  Technology  Accessories   \n",
              "1   FUR-CH-10003950   Furniture       Chairs   \n",
              "2   TEC-PH-10004664  Technology       Phones   \n",
              "3   TEC-PH-10004583  Technology       Phones   \n",
              "4  TEC-SHA-10000501  Technology      Copiers   \n",
              "\n",
              "                                        Product Name     Sales Quantity  \\\n",
              "0  Plantronics CS510 - Over-the-Head monaural Wir...  2309.650        7   \n",
              "1          Novimex Executive Leather Armchair, Black  3709.395        9   \n",
              "2                  Nokia Smart Phone, with Caller ID  5175.171        9   \n",
              "3                     Motorola Smart Phone, Cordless  2892.510        5   \n",
              "4                     Sharp Wireless Fax, High-Speed  2832.960        8   \n",
              "\n",
              "  Discount    Profit  Shipping Cost  Order Priority  \n",
              "0      0.0  762.1845         933.57        Critical  \n",
              "1      0.1 -288.7650         923.63        Critical  \n",
              "2      0.1  919.9710         915.49          Medium  \n",
              "3      0.1  -96.5400         910.16          Medium  \n",
              "4      0.0  311.5200         903.04        Critical  \n",
              "\n",
              "[5 rows x 24 columns]"
            ],
            "text/html": [
              "\n",
              "  <div id=\"df-20f6284b-b45c-44d0-b87e-05de44d15eee\">\n",
              "    <div class=\"colab-df-container\">\n",
              "      <div>\n",
              "<style scoped>\n",
              "    .dataframe tbody tr th:only-of-type {\n",
              "        vertical-align: middle;\n",
              "    }\n",
              "\n",
              "    .dataframe tbody tr th {\n",
              "        vertical-align: top;\n",
              "    }\n",
              "\n",
              "    .dataframe thead th {\n",
              "        text-align: right;\n",
              "    }\n",
              "</style>\n",
              "<table border=\"1\" class=\"dataframe\">\n",
              "  <thead>\n",
              "    <tr style=\"text-align: right;\">\n",
              "      <th></th>\n",
              "      <th>Row ID</th>\n",
              "      <th>Order ID</th>\n",
              "      <th>Order Date</th>\n",
              "      <th>Ship Date</th>\n",
              "      <th>Ship Mode</th>\n",
              "      <th>Customer ID</th>\n",
              "      <th>Customer Name</th>\n",
              "      <th>Segment</th>\n",
              "      <th>City</th>\n",
              "      <th>State</th>\n",
              "      <th>...</th>\n",
              "      <th>Product ID</th>\n",
              "      <th>Category</th>\n",
              "      <th>Sub-Category</th>\n",
              "      <th>Product Name</th>\n",
              "      <th>Sales</th>\n",
              "      <th>Quantity</th>\n",
              "      <th>Discount</th>\n",
              "      <th>Profit</th>\n",
              "      <th>Shipping Cost</th>\n",
              "      <th>Order Priority</th>\n",
              "    </tr>\n",
              "  </thead>\n",
              "  <tbody>\n",
              "    <tr>\n",
              "      <th>0</th>\n",
              "      <td>32298</td>\n",
              "      <td>CA-2012-124891</td>\n",
              "      <td>31-07-2012</td>\n",
              "      <td>31-07-2012</td>\n",
              "      <td>Same Day</td>\n",
              "      <td>RH-19495</td>\n",
              "      <td>Rick Hansen</td>\n",
              "      <td>Consumer</td>\n",
              "      <td>New York City</td>\n",
              "      <td>New York</td>\n",
              "      <td>...</td>\n",
              "      <td>TEC-AC-10003033</td>\n",
              "      <td>Technology</td>\n",
              "      <td>Accessories</td>\n",
              "      <td>Plantronics CS510 - Over-the-Head monaural Wir...</td>\n",
              "      <td>2309.650</td>\n",
              "      <td>7</td>\n",
              "      <td>0.0</td>\n",
              "      <td>762.1845</td>\n",
              "      <td>933.57</td>\n",
              "      <td>Critical</td>\n",
              "    </tr>\n",
              "    <tr>\n",
              "      <th>1</th>\n",
              "      <td>26341</td>\n",
              "      <td>IN-2013-77878</td>\n",
              "      <td>05-02-2013</td>\n",
              "      <td>07-02-2013</td>\n",
              "      <td>Second Class</td>\n",
              "      <td>JR-16210</td>\n",
              "      <td>Justin Ritter</td>\n",
              "      <td>Corporate</td>\n",
              "      <td>Wollongong</td>\n",
              "      <td>New South Wales</td>\n",
              "      <td>...</td>\n",
              "      <td>FUR-CH-10003950</td>\n",
              "      <td>Furniture</td>\n",
              "      <td>Chairs</td>\n",
              "      <td>Novimex Executive Leather Armchair, Black</td>\n",
              "      <td>3709.395</td>\n",
              "      <td>9</td>\n",
              "      <td>0.1</td>\n",
              "      <td>-288.7650</td>\n",
              "      <td>923.63</td>\n",
              "      <td>Critical</td>\n",
              "    </tr>\n",
              "    <tr>\n",
              "      <th>2</th>\n",
              "      <td>25330</td>\n",
              "      <td>IN-2013-71249</td>\n",
              "      <td>17-10-2013</td>\n",
              "      <td>18-10-2013</td>\n",
              "      <td>First Class</td>\n",
              "      <td>CR-12730</td>\n",
              "      <td>Craig Reiter</td>\n",
              "      <td>Consumer</td>\n",
              "      <td>Brisbane</td>\n",
              "      <td>Queensland</td>\n",
              "      <td>...</td>\n",
              "      <td>TEC-PH-10004664</td>\n",
              "      <td>Technology</td>\n",
              "      <td>Phones</td>\n",
              "      <td>Nokia Smart Phone, with Caller ID</td>\n",
              "      <td>5175.171</td>\n",
              "      <td>9</td>\n",
              "      <td>0.1</td>\n",
              "      <td>919.9710</td>\n",
              "      <td>915.49</td>\n",
              "      <td>Medium</td>\n",
              "    </tr>\n",
              "    <tr>\n",
              "      <th>3</th>\n",
              "      <td>13524</td>\n",
              "      <td>ES-2013-1579342</td>\n",
              "      <td>28-01-2013</td>\n",
              "      <td>30-01-2013</td>\n",
              "      <td>First Class</td>\n",
              "      <td>KM-16375</td>\n",
              "      <td>Katherine Murray</td>\n",
              "      <td>Home Office</td>\n",
              "      <td>Berlin</td>\n",
              "      <td>Berlin</td>\n",
              "      <td>...</td>\n",
              "      <td>TEC-PH-10004583</td>\n",
              "      <td>Technology</td>\n",
              "      <td>Phones</td>\n",
              "      <td>Motorola Smart Phone, Cordless</td>\n",
              "      <td>2892.510</td>\n",
              "      <td>5</td>\n",
              "      <td>0.1</td>\n",
              "      <td>-96.5400</td>\n",
              "      <td>910.16</td>\n",
              "      <td>Medium</td>\n",
              "    </tr>\n",
              "    <tr>\n",
              "      <th>4</th>\n",
              "      <td>47221</td>\n",
              "      <td>SG-2013-4320</td>\n",
              "      <td>05-11-2013</td>\n",
              "      <td>06-11-2013</td>\n",
              "      <td>Same Day</td>\n",
              "      <td>RH-9495</td>\n",
              "      <td>Rick Hansen</td>\n",
              "      <td>Consumer</td>\n",
              "      <td>Dakar</td>\n",
              "      <td>Dakar</td>\n",
              "      <td>...</td>\n",
              "      <td>TEC-SHA-10000501</td>\n",
              "      <td>Technology</td>\n",
              "      <td>Copiers</td>\n",
              "      <td>Sharp Wireless Fax, High-Speed</td>\n",
              "      <td>2832.960</td>\n",
              "      <td>8</td>\n",
              "      <td>0.0</td>\n",
              "      <td>311.5200</td>\n",
              "      <td>903.04</td>\n",
              "      <td>Critical</td>\n",
              "    </tr>\n",
              "  </tbody>\n",
              "</table>\n",
              "<p>5 rows × 24 columns</p>\n",
              "</div>\n",
              "      <button class=\"colab-df-convert\" onclick=\"convertToInteractive('df-20f6284b-b45c-44d0-b87e-05de44d15eee')\"\n",
              "              title=\"Convert this dataframe to an interactive table.\"\n",
              "              style=\"display:none;\">\n",
              "        \n",
              "  <svg xmlns=\"http://www.w3.org/2000/svg\" height=\"24px\"viewBox=\"0 0 24 24\"\n",
              "       width=\"24px\">\n",
              "    <path d=\"M0 0h24v24H0V0z\" fill=\"none\"/>\n",
              "    <path d=\"M18.56 5.44l.94 2.06.94-2.06 2.06-.94-2.06-.94-.94-2.06-.94 2.06-2.06.94zm-11 1L8.5 8.5l.94-2.06 2.06-.94-2.06-.94L8.5 2.5l-.94 2.06-2.06.94zm10 10l.94 2.06.94-2.06 2.06-.94-2.06-.94-.94-2.06-.94 2.06-2.06.94z\"/><path d=\"M17.41 7.96l-1.37-1.37c-.4-.4-.92-.59-1.43-.59-.52 0-1.04.2-1.43.59L10.3 9.45l-7.72 7.72c-.78.78-.78 2.05 0 2.83L4 21.41c.39.39.9.59 1.41.59.51 0 1.02-.2 1.41-.59l7.78-7.78 2.81-2.81c.8-.78.8-2.07 0-2.86zM5.41 20L4 18.59l7.72-7.72 1.47 1.35L5.41 20z\"/>\n",
              "  </svg>\n",
              "      </button>\n",
              "      \n",
              "  <style>\n",
              "    .colab-df-container {\n",
              "      display:flex;\n",
              "      flex-wrap:wrap;\n",
              "      gap: 12px;\n",
              "    }\n",
              "\n",
              "    .colab-df-convert {\n",
              "      background-color: #E8F0FE;\n",
              "      border: none;\n",
              "      border-radius: 50%;\n",
              "      cursor: pointer;\n",
              "      display: none;\n",
              "      fill: #1967D2;\n",
              "      height: 32px;\n",
              "      padding: 0 0 0 0;\n",
              "      width: 32px;\n",
              "    }\n",
              "\n",
              "    .colab-df-convert:hover {\n",
              "      background-color: #E2EBFA;\n",
              "      box-shadow: 0px 1px 2px rgba(60, 64, 67, 0.3), 0px 1px 3px 1px rgba(60, 64, 67, 0.15);\n",
              "      fill: #174EA6;\n",
              "    }\n",
              "\n",
              "    [theme=dark] .colab-df-convert {\n",
              "      background-color: #3B4455;\n",
              "      fill: #D2E3FC;\n",
              "    }\n",
              "\n",
              "    [theme=dark] .colab-df-convert:hover {\n",
              "      background-color: #434B5C;\n",
              "      box-shadow: 0px 1px 3px 1px rgba(0, 0, 0, 0.15);\n",
              "      filter: drop-shadow(0px 1px 2px rgba(0, 0, 0, 0.3));\n",
              "      fill: #FFFFFF;\n",
              "    }\n",
              "  </style>\n",
              "\n",
              "      <script>\n",
              "        const buttonEl =\n",
              "          document.querySelector('#df-20f6284b-b45c-44d0-b87e-05de44d15eee button.colab-df-convert');\n",
              "        buttonEl.style.display =\n",
              "          google.colab.kernel.accessAllowed ? 'block' : 'none';\n",
              "\n",
              "        async function convertToInteractive(key) {\n",
              "          const element = document.querySelector('#df-20f6284b-b45c-44d0-b87e-05de44d15eee');\n",
              "          const dataTable =\n",
              "            await google.colab.kernel.invokeFunction('convertToInteractive',\n",
              "                                                     [key], {});\n",
              "          if (!dataTable) return;\n",
              "\n",
              "          const docLinkHtml = 'Like what you see? Visit the ' +\n",
              "            '<a target=\"_blank\" href=https://colab.research.google.com/notebooks/data_table.ipynb>data table notebook</a>'\n",
              "            + ' to learn more about interactive tables.';\n",
              "          element.innerHTML = '';\n",
              "          dataTable['output_type'] = 'display_data';\n",
              "          await google.colab.output.renderOutput(dataTable, element);\n",
              "          const docLink = document.createElement('div');\n",
              "          docLink.innerHTML = docLinkHtml;\n",
              "          element.appendChild(docLink);\n",
              "        }\n",
              "      </script>\n",
              "    </div>\n",
              "  </div>\n",
              "  "
            ]
          },
          "metadata": {},
          "execution_count": 36
        }
      ]
    },
    {
      "cell_type": "markdown",
      "source": [
        "Converting data into suitable formats"
      ],
      "metadata": {
        "id": "Ip4T4LmBJg6U"
      }
    },
    {
      "cell_type": "code",
      "source": [
        "data['Order Date'] = pd.to_datetime(data['Order Date'])\n",
        "data['Ship Date'] = pd.to_datetime(data['Ship Date'])"
      ],
      "metadata": {
        "id": "jW8BXdGnByKo"
      },
      "execution_count": 37,
      "outputs": []
    },
    {
      "cell_type": "code",
      "source": [
        "data.info()"
      ],
      "metadata": {
        "colab": {
          "base_uri": "https://localhost:8080/"
        },
        "id": "N_x8OgnAB8A3",
        "outputId": "d99b872e-e202-4d21-bbbe-b557228f9c20"
      },
      "execution_count": 38,
      "outputs": [
        {
          "output_type": "stream",
          "name": "stdout",
          "text": [
            "<class 'pandas.core.frame.DataFrame'>\n",
            "RangeIndex: 51290 entries, 0 to 51289\n",
            "Data columns (total 24 columns):\n",
            " #   Column          Non-Null Count  Dtype         \n",
            "---  ------          --------------  -----         \n",
            " 0   Row ID          51290 non-null  int64         \n",
            " 1   Order ID        51290 non-null  object        \n",
            " 2   Order Date      51290 non-null  datetime64[ns]\n",
            " 3   Ship Date       51290 non-null  datetime64[ns]\n",
            " 4   Ship Mode       51290 non-null  object        \n",
            " 5   Customer ID     51290 non-null  object        \n",
            " 6   Customer Name   51290 non-null  object        \n",
            " 7   Segment         51290 non-null  object        \n",
            " 8   City            51290 non-null  object        \n",
            " 9   State           51290 non-null  object        \n",
            " 10  Country         51290 non-null  object        \n",
            " 11  Postal Code     9994 non-null   float64       \n",
            " 12  Market          51290 non-null  object        \n",
            " 13  Region          51290 non-null  object        \n",
            " 14  Product ID      51290 non-null  object        \n",
            " 15  Category        51290 non-null  object        \n",
            " 16  Sub-Category    51290 non-null  object        \n",
            " 17  Product Name    51290 non-null  object        \n",
            " 18  Sales           51290 non-null  float64       \n",
            " 19  Quantity        51290 non-null  int64         \n",
            " 20  Discount        51290 non-null  float64       \n",
            " 21  Profit          51290 non-null  float64       \n",
            " 22  Shipping Cost   51290 non-null  float64       \n",
            " 23  Order Priority  51290 non-null  object        \n",
            "dtypes: datetime64[ns](2), float64(5), int64(2), object(15)\n",
            "memory usage: 9.4+ MB\n"
          ]
        }
      ]
    },
    {
      "cell_type": "markdown",
      "source": [
        "Remove Column with more empty values"
      ],
      "metadata": {
        "id": "7I-ClZSjUcOx"
      }
    },
    {
      "cell_type": "code",
      "source": [
        "data.drop(['Postal Code'], axis=1, inplace=True)"
      ],
      "metadata": {
        "id": "56neaRZjTjiX"
      },
      "execution_count": 39,
      "outputs": []
    }
  ]
}